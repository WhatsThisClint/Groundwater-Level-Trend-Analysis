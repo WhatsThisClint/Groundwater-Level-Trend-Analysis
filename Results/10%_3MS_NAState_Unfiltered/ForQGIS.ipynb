{
 "cells": [
  {
   "cell_type": "code",
   "execution_count": 3,
   "id": "45218cfc-e861-40ac-b89c-5b74674c7a5a",
   "metadata": {
    "tags": []
   },
   "outputs": [
    {
     "name": "stdout",
     "output_type": "stream",
     "text": [
      "Conversion complete: Slope Comparison from Slope_Comparison_with_Location.xlsx converted to Slope_Comparison_with_Location.csv\n"
     ]
    }
   ],
   "source": [
    "import pandas as pd\n",
    "\n",
    "# Replace 'input.xlsx' with the name of your Excel file\n",
    "excel_file = 'Slope_Comparison_with_Location.xlsx'\n",
    "\n",
    "# Replace 'Sheet2' with the name of the sheet you want to convert, or use the sheet index (e.g., 1 for the second sheet)\n",
    "sheet_name_or_index = 'Slope Comparison'\n",
    "\n",
    "# Load the specific sheet from the Excel file into a DataFrame\n",
    "df = pd.read_excel(excel_file, sheet_name=sheet_name_or_index)\n",
    "\n",
    "# Replace 'output.csv' with the desired name of your CSV file\n",
    "csv_file = 'Slope_Comparison_with_Location.csv'\n",
    "\n",
    "# Save the DataFrame as a CSV file\n",
    "df.to_csv(csv_file, index=False)\n",
    "\n",
    "print(f'Conversion complete: {sheet_name_or_index} from {excel_file} converted to {csv_file}')\n"
   ]
  },
  {
   "cell_type": "code",
   "execution_count": null,
   "id": "1a48f811-0d77-479f-9687-e01d0033ae2e",
   "metadata": {},
   "outputs": [],
   "source": []
  }
 ],
 "metadata": {
  "kernelspec": {
   "display_name": "Python 3 (ipykernel)",
   "language": "python",
   "name": "python3"
  },
  "language_info": {
   "codemirror_mode": {
    "name": "ipython",
    "version": 3
   },
   "file_extension": ".py",
   "mimetype": "text/x-python",
   "name": "python",
   "nbconvert_exporter": "python",
   "pygments_lexer": "ipython3",
   "version": "3.11.4"
  }
 },
 "nbformat": 4,
 "nbformat_minor": 5
}
