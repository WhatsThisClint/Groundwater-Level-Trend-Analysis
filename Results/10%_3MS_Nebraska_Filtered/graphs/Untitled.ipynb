{
 "cells": [
  {
   "cell_type": "code",
   "execution_count": 6,
   "id": "15b366a6-49ed-4ca6-bbbc-46d6ec8327e7",
   "metadata": {
    "tags": []
   },
   "outputs": [],
   "source": [
    "from docx import Document\n",
    "from docx.shared import Cm  # Import Cm for specifying dimensions in centimeters\n",
    "from docx.enum.text import WD_ALIGN_PARAGRAPH\n",
    "import os\n",
    "\n",
    "# Get the current working directory (where the script is located)\n",
    "current_directory = os.getcwd()\n",
    "\n",
    "# List PNG images in the current directory\n",
    "image_files = [file for file in os.listdir(current_directory) if file.endswith(\".png\")]\n",
    "\n",
    "# Create a new Word document\n",
    "doc = Document()\n",
    "\n",
    "# Set page size to A4 (21.0 cm x 29.7 cm)\n",
    "section = doc.sections[0]\n",
    "section.page_height = Cm(29.7)\n",
    "section.page_width = Cm(21.0)\n",
    "\n",
    "# Insert images and captions\n",
    "for img_file in image_files:\n",
    "    # Insert image with specified dimensions (7.69 cm height and 15.87 cm width)\n",
    "    doc.add_picture(\n",
    "        os.path.join(current_directory, img_file),\n",
    "        height=Cm(7.69),\n",
    "        width=Cm(15.87)\n",
    "    )\n",
    "\n",
    "    # Center align the image\n",
    "    for paragraph in doc.paragraphs:\n",
    "        for run in paragraph.runs:\n",
    "            run.alignment = WD_ALIGN_PARAGRAPH.CENTER\n",
    "    \n",
    "    # Insert caption\n",
    "    caption = f\"Figure: {img_file}\"\n",
    "    doc.add_paragraph(caption, style=\"Caption\")\n",
    "    doc.add_paragraph(\"\")  # Add an empty line for spacing\n",
    "\n",
    "# Generate table of figures\n",
    "doc.add_paragraph(\"Table of Figures\", style=\"Heading1\")\n",
    "doc.add_paragraph(\"Figure\\tDescription\\tPage\")  # No need to specify a style here\n",
    "\n",
    "# Add a table for the figures\n",
    "table = doc.add_table(rows=1, cols=3)\n",
    "table.autofit = False  # Disable autofit to have better control over column widths\n",
    "\n",
    "# Set column widths for the table\n",
    "for col in table.columns:\n",
    "    col.width = Cm(1.0)  # Adjust as needed\n",
    "\n",
    "# Populate the table with figure data\n",
    "for i, img_file in enumerate(image_files, start=1):\n",
    "    caption = f\"Figure {i}: {img_file}\"\n",
    "    row_cells = table.add_row().cells\n",
    "    row_cells[0].text = str(i)\n",
    "    row_cells[1].text = caption\n",
    "    row_cells[2].text = str(i)  # Use the figure number as the page number\n",
    "\n",
    "# Save the Word document\n",
    "doc.save(\"output_document.docx\")\n"
   ]
  },
  {
   "cell_type": "code",
   "execution_count": null,
   "id": "ef386593-1bcb-4005-af57-43982de9770c",
   "metadata": {},
   "outputs": [],
   "source": []
  }
 ],
 "metadata": {
  "kernelspec": {
   "display_name": "Python 3 (ipykernel)",
   "language": "python",
   "name": "python3"
  },
  "language_info": {
   "codemirror_mode": {
    "name": "ipython",
    "version": 3
   },
   "file_extension": ".py",
   "mimetype": "text/x-python",
   "name": "python",
   "nbconvert_exporter": "python",
   "pygments_lexer": "ipython3",
   "version": "3.11.4"
  }
 },
 "nbformat": 4,
 "nbformat_minor": 5
}
