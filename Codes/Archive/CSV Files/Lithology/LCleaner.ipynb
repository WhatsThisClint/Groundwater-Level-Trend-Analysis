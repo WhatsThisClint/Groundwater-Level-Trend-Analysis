{
 "cells": [
  {
   "cell_type": "code",
   "execution_count": 1,
   "id": "5a40e050-fde4-4bb2-b844-240be8868410",
   "metadata": {
    "tags": []
   },
   "outputs": [
    {
     "name": "stdout",
     "output_type": "stream",
     "text": [
      "Delimiter conversion process completed.\n"
     ]
    }
   ],
   "source": [
    "import os\n",
    "\n",
    "# Define the folder path where your CSV files are located\n",
    "folder_path = 'D:\\IGRAC\\Python\\Lithology'\n",
    "\n",
    "# Create a backup folder to store original files\n",
    "backup_folder = os.path.join(folder_path, 'backup')\n",
    "os.makedirs(backup_folder, exist_ok=True)\n",
    "\n",
    "# Iterate through each file in the folder\n",
    "for filename in os.listdir(folder_path):\n",
    "    if filename.endswith('.csv'):\n",
    "        file_path = os.path.join(folder_path, filename)\n",
    "        \n",
    "        # Read the first line of the file to check the delimiter\n",
    "        with open(file_path, 'r') as f:\n",
    "            first_line = f.readline().strip()\n",
    "            if ';' in first_line:  # Change delimiter if it's not a comma\n",
    "                new_file_path = os.path.join(backup_folder, filename)\n",
    "                os.rename(file_path, new_file_path)  # Backup original file\n",
    "                \n",
    "                with open(new_file_path, 'w') as new_f:\n",
    "                    for line in f:\n",
    "                        new_line = line.replace(';', ',')\n",
    "                        new_f.write(new_line)\n",
    "                \n",
    "                print(f\"Converted delimiter for '{filename}' and saved backup\")\n",
    "\n",
    "print(\"Delimiter conversion process completed.\")\n"
   ]
  },
  {
   "cell_type": "code",
   "execution_count": 2,
   "id": "71e06044-b1f4-4fe6-9ce3-1fcd8ea4e10f",
   "metadata": {
    "tags": []
   },
   "outputs": [
    {
     "name": "stdout",
     "output_type": "stream",
     "text": [
      "Read data from 'LITHOLOGY Armstrong.csv'\n",
      "Read data from 'LITHOLOGY Baca.csv'\n",
      "Read data from 'LITHOLOGY Bailey.csv'\n",
      "Read data from 'LITHOLOGY Biscoe.csv'\n",
      "Read data from 'LITHOLOGY Borden.csv'\n",
      "Read data from 'LITHOLOGY Carson.csv'\n",
      "Read data from 'LITHOLOGY Castro.csv'\n",
      "Read data from 'LITHOLOGY Cheyenne.csv'\n",
      "Read data from 'LITHOLOGY Cochran.csv'\n",
      "Read data from 'LITHOLOGY Cosby.csv'\n",
      "Read data from 'LITHOLOGY Dallam.csv'\n",
      "Read data from 'LITHOLOGY Dawson.csv'\n",
      "Read data from 'LITHOLOGY Deaf Smith.csv'\n",
      "Read data from 'LITHOLOGY Dickens.csv'\n",
      "Read data from 'LITHOLOGY Donley.csv'\n",
      "Read data from 'LITHOLOGY Floyd.csv'\n",
      "Read data from 'LITHOLOGY Gaines.csv'\n",
      "Read data from 'LITHOLOGY Garza.csv'\n",
      "Read data from 'LITHOLOGY Gray.csv'\n",
      "Read data from 'LITHOLOGY Hale.csv'\n",
      "Read data from 'LITHOLOGY Hansford.csv'\n",
      "Read data from 'LITHOLOGY Hartley.csv'\n",
      "Read data from 'LITHOLOGY Hemphill.csv'\n",
      "Read data from 'LITHOLOGY Hockley.csv'\n",
      "Read data from 'LITHOLOGY Howard.csv'\n",
      "Read data from 'LITHOLOGY Hutchinson.csv'\n",
      "Read data from 'LITHOLOGY Kansas 1.csv'\n",
      "Read data from 'LITHOLOGY Kansas 2.csv'\n",
      "Read data from 'LITHOLOGY Kansas 3.csv'\n",
      "Read data from 'LITHOLOGY Kasas 4.csv'\n",
      "Read data from 'LITHOLOGY Kiowa.csv'\n",
      "Read data from 'LITHOLOGY Kit Carson 1.csv'\n",
      "Read data from 'LITHOLOGY Kit Carson 2.csv'\n",
      "Read data from 'LITHOLOGY Lamb.csv'\n",
      "Read data from 'LITHOLOGY Las Animas.csv'\n",
      "Read data from 'LITHOLOGY Lincoln.csv'\n",
      "Read data from 'LITHOLOGY Lipscomb.csv'\n",
      "Read data from 'LITHOLOGY Logan.csv'\n",
      "Read data from 'LITHOLOGY Lubbock.csv'\n",
      "Read data from 'LITHOLOGY Lynn.csv'\n",
      "Read data from 'LITHOLOGY Martin.csv'\n",
      "Read data from 'LITHOLOGY Midland.csv'\n",
      "Read data from 'LITHOLOGY Moore.csv'\n",
      "Read data from 'LITHOLOGY Nabraska.csv'\n",
      "Read data from 'LITHOLOGY Ochiltree.csv'\n",
      "Read data from 'LITHOLOGY Oklahoma.csv'\n",
      "Read data from 'LITHOLOGY Oldham.csv'\n",
      "Read data from 'LITHOLOGY Parmer.csv'\n",
      "Read data from 'LITHOLOGY Phillips.csv'\n",
      "Read data from 'LITHOLOGY Potter.csv'\n",
      "Read data from 'LITHOLOGY Prowers.csv'\n",
      "Read data from 'LITHOLOGY Randall.csv'\n",
      "Read data from 'LITHOLOGY Roberts.csv'\n",
      "Read data from 'LITHOLOGY Sedgwick.csv'\n",
      "Read data from 'LITHOLOGY Sherman.csv'\n",
      "Read data from 'LITHOLOGY South Dakota.csv'\n",
      "Read data from 'LITHOLOGY Swisher.csv'\n",
      "Read data from 'LITHOLOGY Terry.csv'\n",
      "Read data from 'LITHOLOGY Washington.csv'\n",
      "Read data from 'LITHOLOGY Wheeler.csv'\n",
      "Read data from 'LITHOLOGY Yoakum.csv'\n",
      "Read data from 'LITHOLOGY Yuma 1.csv'\n",
      "Read data from 'LITHOLOGY Yuma 2.csv'\n",
      "Merged data saved to merged.csv with the following errors:\n",
      "Error processing file 'LITHOLOGY Andrews.csv': No columns to parse from file\n",
      "Error processing file 'LITHOLOGY Glasscock.csv': No columns to parse from file\n",
      "Error processing file 'LITHOLOGY Motley.csv': No columns to parse from file\n",
      "Error processing file 'LITHOLOGY New Mexico.csv': No columns to parse from file\n"
     ]
    }
   ],
   "source": [
    "import os\n",
    "import pandas as pd\n",
    "\n",
    "# Define the folder path where your CSV files are located\n",
    "folder_path = 'D:\\IGRAC\\Python\\Lithology'\n",
    "\n",
    "# Create a backup folder to store original files\n",
    "backup_folder = os.path.join(folder_path, 'backup')\n",
    "os.makedirs(backup_folder, exist_ok=True)\n",
    "\n",
    "# List to keep track of errors\n",
    "errors = []\n",
    "\n",
    "# List to store DataFrames read from CSV files\n",
    "dataframes = []\n",
    "\n",
    "# Iterate through each file in the folder\n",
    "for filename in os.listdir(folder_path):\n",
    "    if filename.endswith('.csv'):\n",
    "        file_path = os.path.join(folder_path, filename)\n",
    "        \n",
    "        # Read the CSV file with the new delimiter\n",
    "        try:\n",
    "            df = pd.read_csv(file_path)\n",
    "            dataframes.append(df)\n",
    "            \n",
    "            print(f\"Read data from '{filename}'\")\n",
    "        \n",
    "        except Exception as e:\n",
    "            errors.append(f\"Error processing file '{filename}': {str(e)}\")\n",
    "\n",
    "# Concatenate all DataFrames into a single DataFrame\n",
    "merged_data = pd.concat(dataframes, ignore_index=True)\n",
    "\n",
    "# Save the merged data to the merged.csv file\n",
    "merged_file_path = os.path.join(folder_path, 'merged.csv')\n",
    "merged_data.to_csv(merged_file_path, index=False)\n",
    "\n",
    "if not errors:\n",
    "    print(\"Merged data saved to merged.csv\")\n",
    "else:\n",
    "    print(\"Merged data saved to merged.csv with the following errors:\")\n",
    "    for error in errors:\n",
    "        print(error)"
   ]
  },
  {
   "cell_type": "code",
   "execution_count": 4,
   "id": "93a88afc-f57e-4be0-acb2-2d84fd2ab976",
   "metadata": {
    "jp-MarkdownHeadingCollapsed": true,
    "tags": []
   },
   "outputs": [
    {
     "name": "stdout",
     "output_type": "stream",
     "text": [
      "Columns in the CSV file:\n",
      "1: AgencyCd\n",
      "2: SiteNo\n",
      "3: LithologyID\n",
      "4: LithologyDescription\n",
      "5: LithologyControlledConcept\n",
      "6: lang\n",
      "7: uom\n",
      "8: LithologyDepthFrom\n",
      "9: LithologyDepthFromUnit\n",
      "10: LithologyDepthTo\n",
      "11: LithologyDepthToUnit\n"
     ]
    },
    {
     "name": "stdin",
     "output_type": "stream",
     "text": [
      "Enter the numbers of the columns to drop (comma-separated, or 'done' to finish):  3,5,6,7,8,9,10,11\n",
      "Enter the numbers of the columns to drop (comma-separated, or 'done' to finish):  done\n"
     ]
    },
    {
     "name": "stdout",
     "output_type": "stream",
     "text": [
      "Cleaned data saved to cleaned_Lithology_master.csv\n"
     ]
    }
   ],
   "source": [
    "##### import pandas as pd\n",
    "\n",
    "# Ask the user for the name of the CSV file\n",
    "csv_filename = \"Lithology_master.csv\"\n",
    "\n",
    "# Read the CSV file\n",
    "try:\n",
    "    data = pd.read_csv(csv_filename)\n",
    "except FileNotFoundError:\n",
    "    print(f\"Error: {csv_filename} not found.\")\n",
    "    exit(1)\n",
    "\n",
    "# Display the columns to the user\n",
    "print(\"Columns in the CSV file:\")\n",
    "for idx, column in enumerate(data.columns):\n",
    "    print(f\"{idx + 1}: {column}\")\n",
    "\n",
    "# Ask the user for columns to drop\n",
    "columns_to_drop = []\n",
    "while True:\n",
    "    try:\n",
    "        user_input = input(\"Enter the numbers of the columns to drop (comma-separated, or 'done' to finish): \")\n",
    "        if user_input.lower() == 'done':\n",
    "            break\n",
    "        selected_indices = [int(idx) - 1 for idx in user_input.split(\",\")]\n",
    "        valid_indices = [idx for idx in selected_indices if 0 <= idx < len(data.columns)]\n",
    "        columns_to_drop.extend([data.columns[idx] for idx in valid_indices])\n",
    "    except ValueError:\n",
    "        print(\"Invalid input. Please enter valid column numbers.\")\n",
    "\n",
    "# Drop the selected columns\n",
    "cleaned_data = data.drop(columns=columns_to_drop)\n",
    "\n",
    "# Save the cleaned data to a new CSV file\n",
    "cleaned_filename = f\"cleaned_{csv_filename}\"\n",
    "cleaned_data.to_csv(cleaned_filename, index=False)\n",
    "\n",
    "print(f\"Cleaned data saved to {cleaned_filename}\")\n"
   ]
  },
  {
   "cell_type": "code",
   "execution_count": null,
   "id": "3d420dd2-a441-439f-8826-c53a98b20e43",
   "metadata": {},
   "outputs": [],
   "source": []
  }
 ],
 "metadata": {
  "kernelspec": {
   "display_name": "Python 3 (ipykernel)",
   "language": "python",
   "name": "python3"
  },
  "language_info": {
   "codemirror_mode": {
    "name": "ipython",
    "version": 3
   },
   "file_extension": ".py",
   "mimetype": "text/x-python",
   "name": "python",
   "nbconvert_exporter": "python",
   "pygments_lexer": "ipython3",
   "version": "3.11.4"
  }
 },
 "nbformat": 4,
 "nbformat_minor": 5
}
