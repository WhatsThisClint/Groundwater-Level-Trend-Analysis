{
 "cells": [
  {
   "cell_type": "markdown",
   "id": "6ced4db7-ff59-4c68-b2ff-161fe1f0cda3",
   "metadata": {},
   "source": [
    "# Merge files using a particular column"
   ]
  },
  {
   "cell_type": "code",
   "execution_count": 1,
   "id": "be51ec3c-f309-43b8-a732-e82d65f8786f",
   "metadata": {
    "tags": []
   },
   "outputs": [],
   "source": [
    "import pandas as pd\n",
    "\n",
    "# Replace 'file1.csv' and 'file2.csv' with the actual file paths of your CSV files\n",
    "file1_path = 'cleaned_Site_Info_Master#.csv'\n",
    "file2_path = 'cleaned_Waterlevel_Master#.csv'\n",
    "\n",
    "# Read the CSV files into pandas DataFrames\n",
    "# Specify dtype for the 'Site' column as string to avoid DtypeWarning\n",
    "df1 = pd.read_csv(file1_path, dtype={'SiteNo': object})\n",
    "df2 = pd.read_csv(file2_path, dtype={'SiteNo': object})  # Specify 'Site' as string type or object\n",
    "\n",
    "# Merge the DataFrames based on the common column 'site'\n",
    "merged_df = pd.merge(df1, df2, on='SiteNo')\n",
    "\n",
    "# Save the merged DataFrame to a new CSV file or work with it as needed\n",
    "merged_df.to_csv('merged_file.csv', index=False)\n"
   ]
  },
  {
   "cell_type": "code",
   "execution_count": 3,
   "id": "6908864c-3ab5-4666-925f-3872c188f447",
   "metadata": {
    "tags": []
   },
   "outputs": [
    {
     "name": "stderr",
     "output_type": "stream",
     "text": [
      "C:\\Users\\cfe004\\AppData\\Local\\Temp\\ipykernel_13576\\1088343883.py:5: DtypeWarning: Columns (10,12) have mixed types. Specify dtype option on import or set low_memory=False.\n",
      "  data = pd.read_csv(csv_file_path)\n"
     ]
    },
    {
     "name": "stdout",
     "output_type": "stream",
     "text": [
      "Number of unique values in the 'SitNo' column: 4084\n"
     ]
    }
   ],
   "source": [
    "import pandas as pd\n",
    "\n",
    "# Read the CSV file\n",
    "csv_file_path = \"FinalDataset.csv\"  # Replace with the actual file path\n",
    "data = pd.read_csv(csv_file_path)\n",
    "\n",
    "# Calculate the number of unique values in the 'SitNo' column\n",
    "unique_sitno_count = data['SiteNo'].nunique()\n",
    "\n",
    "# Print the result\n",
    "print(\"Number of unique values in the 'SitNo' column:\", unique_sitno_count)\n"
   ]
  },
  {
   "cell_type": "code",
   "execution_count": 6,
   "id": "426aa773-eec3-40a0-b319-7fb5253e9056",
   "metadata": {
    "tags": []
   },
   "outputs": [
    {
     "name": "stderr",
     "output_type": "stream",
     "text": [
      "C:\\Users\\cfe004\\AppData\\Local\\Temp\\ipykernel_13576\\3990424787.py:5: DtypeWarning: Columns (10,12) have mixed types. Specify dtype option on import or set low_memory=False.\n",
      "  data = pd.read_csv(csv_file_path)\n"
     ]
    },
    {
     "name": "stdout",
     "output_type": "stream",
     "text": [
      "All unique SiteNo have values in the DecLatVa and DecLongVa columns.\n"
     ]
    }
   ],
   "source": [
    "import pandas as pd\n",
    "\n",
    "# Read the CSV file\n",
    "csv_file_path = \"FinalDataset.csv\"  # Replace with the actual file path\n",
    "data = pd.read_csv(csv_file_path)\n",
    "\n",
    "# Calculate the number of unique values in the 'SitNo' column\n",
    "unique_sitno_count = data['SiteNo'].nunique()\n",
    "\n",
    "# Get the unique values in the 'SitNo' column\n",
    "unique_sitnos = data['SiteNo'].unique()\n",
    "\n",
    "# Initialize a flag to check if all unique SitNo have corresponding values\n",
    "all_have_values = True\n",
    "\n",
    "# Check if all unique SitNo have corresponding values in DecLatVa and DecLongVa\n",
    "for sitno in unique_sitnos:\n",
    "    sitno_data = data[data['SiteNo'] == sitno]\n",
    "    \n",
    "    # Check if DecLatVa and DecLongVa columns have any non-null values\n",
    "    if sitno_data['DecLatVa'].isnull().all() or sitno_data['DecLongVa'].isnull().all():\n",
    "        all_have_values = False\n",
    "        break\n",
    "\n",
    "if all_have_values:\n",
    "    print(\"All unique SiteNo have values in the DecLatVa and DecLongVa columns.\")\n",
    "else:\n",
    "    print(\"Not all unique SiteNo have values in the DecLatVa and/or DecLongVa columns.\")\n"
   ]
  },
  {
   "cell_type": "code",
   "execution_count": null,
   "id": "cdfabe69-d8de-427f-9ffe-1e7259ffa4e6",
   "metadata": {},
   "outputs": [],
   "source": []
  }
 ],
 "metadata": {
  "kernelspec": {
   "display_name": "Python 3 (ipykernel)",
   "language": "python",
   "name": "python3"
  },
  "language_info": {
   "codemirror_mode": {
    "name": "ipython",
    "version": 3
   },
   "file_extension": ".py",
   "mimetype": "text/x-python",
   "name": "python",
   "nbconvert_exporter": "python",
   "pygments_lexer": "ipython3",
   "version": "3.11.4"
  }
 },
 "nbformat": 4,
 "nbformat_minor": 5
}
