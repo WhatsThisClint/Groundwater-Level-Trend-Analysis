{
 "cells": [
  {
   "cell_type": "markdown",
   "id": "9f47814d-869d-490a-a5e5-7471786ef5a6",
   "metadata": {},
   "source": [
    "# Create csv files for each State"
   ]
  },
  {
   "cell_type": "code",
   "execution_count": 7,
   "id": "665bfdbe-441b-4223-8830-716190b268c0",
   "metadata": {
    "tags": []
   },
   "outputs": [
    {
     "name": "stdout",
     "output_type": "stream",
     "text": [
      "Texas_sites.csv created.\n",
      "Colorado_sites.csv created.\n",
      "Oklahoma_sites.csv created.\n",
      "Kansas_sites.csv created.\n",
      "Nebraska_sites.csv created.\n",
      "New Mexico_sites.csv created.\n",
      "South Dakota_sites.csv created.\n",
      "CSV files for each state have been created.\n"
     ]
    }
   ],
   "source": [
    "import pandas as pd\n",
    "\n",
    "# Step 1: Read the CSV files into DataFrames\n",
    "offset_data = pd.read_csv('Offset_Final_resampled_data_quarterly_by_site.csv')\n",
    "hp_data = pd.read_csv('1HPFormatted.csv', usecols=['site', 'state'])\n",
    "\n",
    "# Step 2: Create a dictionary to store site-wise state information\n",
    "site_state_dict = dict(zip(hp_data['site'], hp_data['state']))\n",
    "\n",
    "# Step 3: Create individual CSV files for each state\n",
    "states = ['Texas', 'Colorado', 'Oklahoma', 'Kansas', 'Nebraska', 'New Mexico', 'South Dakota']\n",
    "\n",
    "for state in states:\n",
    "    state_sites = [site for site, state_name in site_state_dict.items() if state_name == state]\n",
    "    state_data = offset_data[offset_data['site'].isin(state_sites)]\n",
    "    state_csv_filename = f'{state}_sites.csv'\n",
    "    state_data.to_csv(state_csv_filename, index=False)\n",
    "    print(f'{state_csv_filename} created.')\n",
    "\n",
    "print(\"CSV files for each state have been created.\")\n"
   ]
  },
  {
   "cell_type": "code",
   "execution_count": 8,
   "id": "aa5fef60-150c-410a-b868-4e792e96f7d9",
   "metadata": {
    "tags": []
   },
   "outputs": [
    {
     "name": "stdout",
     "output_type": "stream",
     "text": [
      "State: Texas, Unique Sites Count: 2593\n",
      "State: Colorado, Unique Sites Count: 697\n",
      "State: Oklahoma, Unique Sites Count: 105\n",
      "State: Kansas, Unique Sites Count: 449\n",
      "State: Nebraska, Unique Sites Count: 154\n",
      "State: New Mexico, Unique Sites Count: 4\n",
      "State: South Dakota, Unique Sites Count: 90\n"
     ]
    }
   ],
   "source": [
    "import pandas as pd\n",
    "\n",
    "# Load the CSV file into a DataFrame\n",
    "formatted_data = pd.read_csv('1HPFormatted.csv')\n",
    "\n",
    "# List of state names\n",
    "states = ['Texas', 'Colorado', 'Oklahoma', 'Kansas', 'Nebraska', 'New Mexico', 'South Dakota']\n",
    "\n",
    "# Create a dictionary to store the number of unique sites for each state\n",
    "unique_sites_by_state = {}\n",
    "\n",
    "# Iterate through each state and count unique sites\n",
    "for state in states:\n",
    "    # Filter the data for the current state\n",
    "    state_data = formatted_data[formatted_data['state'] == state]\n",
    "    \n",
    "    # Count the number of unique sites in this state\n",
    "    unique_sites_count = state_data['site'].nunique()\n",
    "    \n",
    "    # Store the count in the dictionary\n",
    "    unique_sites_by_state[state] = unique_sites_count\n",
    "\n",
    "# Print the number of unique sites for each state\n",
    "for state, count in unique_sites_by_state.items():\n",
    "    print(f\"State: {state}, Unique Sites Count: {count}\")\n"
   ]
  },
  {
   "cell_type": "code",
   "execution_count": 5,
   "id": "049f3c4a-5014-4b78-9fa3-219a678d5776",
   "metadata": {},
   "outputs": [
    {
     "data": {
      "text/plain": [
       "2593"
      ]
     },
     "execution_count": 5,
     "metadata": {},
     "output_type": "execute_result"
    }
   ],
   "source": [
    "import pandas as pd\n",
    "\n",
    "\n",
    "formatted_data = pd.read_csv('Texas_sites.csv')\n",
    "formatted_data['site'].nunique()\n"
   ]
  },
  {
   "cell_type": "code",
   "execution_count": null,
   "id": "e388d343-9cc6-459f-a851-6bef5348a260",
   "metadata": {},
   "outputs": [],
   "source": []
  }
 ],
 "metadata": {
  "kernelspec": {
   "display_name": "Python 3 (ipykernel)",
   "language": "python",
   "name": "python3"
  },
  "language_info": {
   "codemirror_mode": {
    "name": "ipython",
    "version": 3
   },
   "file_extension": ".py",
   "mimetype": "text/x-python",
   "name": "python",
   "nbconvert_exporter": "python",
   "pygments_lexer": "ipython3",
   "version": "3.11.4"
  }
 },
 "nbformat": 4,
 "nbformat_minor": 5
}
