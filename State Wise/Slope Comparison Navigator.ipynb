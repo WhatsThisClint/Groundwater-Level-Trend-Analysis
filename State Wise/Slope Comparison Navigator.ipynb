{
 "cells": [
  {
   "cell_type": "code",
   "execution_count": 2,
   "id": "01cb4d53-f8c9-4c92-9dc5-05889997009b",
   "metadata": {},
   "outputs": [
    {
     "name": "stdout",
     "output_type": "stream",
     "text": [
      "Processed files in F:\\State Wise\\10%_3MS_Colorado_Filtered and saved slope_comparison.xlsx\n",
      "Processed files in F:\\State Wise\\10%_3MS_Colorado_Unfiltered and saved slope_comparison.xlsx\n",
      "Processed files in F:\\State Wise\\10%_3MS_Kansas_Filtered and saved slope_comparison.xlsx\n",
      "Processed files in F:\\State Wise\\10%_3MS_Kansas_Unfiltered and saved slope_comparison.xlsx\n",
      "Processed files in F:\\State Wise\\10%_3MS_NAState_Filtered and saved slope_comparison.xlsx\n",
      "Processed files in F:\\State Wise\\10%_3MS_NAState_Unfiltered and saved slope_comparison.xlsx\n",
      "Processed files in F:\\State Wise\\10%_3MS_Nebraska_Filtered and saved slope_comparison.xlsx\n",
      "Processed files in F:\\State Wise\\10%_3MS_Nebraska_Unfiltered and saved slope_comparison.xlsx\n",
      "Processed files in F:\\State Wise\\10%_3MS_New Mexico_Unfiltered and saved slope_comparison.xlsx\n",
      "Processed files in F:\\State Wise\\10%_3MS_Oklahoma_Filtered and saved slope_comparison.xlsx\n",
      "Processed files in F:\\State Wise\\10%_3MS_Oklahoma_Unfiltered and saved slope_comparison.xlsx\n",
      "Processed files in F:\\State Wise\\10%_3MS_South Dakota_Filtered and saved slope_comparison.xlsx\n",
      "Processed files in F:\\State Wise\\10%_3MS_South Dakota_Unfiltered and saved slope_comparison.xlsx\n",
      "Processed files in F:\\State Wise\\10%_3MS_Texas_Filtered and saved slope_comparison.xlsx\n",
      "Processed files in F:\\State Wise\\10%_3MS_Texas_Unfiltered and saved slope_comparison.xlsx\n"
     ]
    }
   ],
   "source": [
    "import os\n",
    "import pandas as pd\n",
    "\n",
    "# Define the file names to search for\n",
    "file_names = [\"Post_Agre_MK.xlsx\", \"Post_Agri_LR.xlsx\"]\n",
    "\n",
    "# Define the function to process the files and save slope_comparison.xlsx\n",
    "def process_files(dir_path):\n",
    "    for root, dirs, files in os.walk(dir_path):\n",
    "        if all(file_name in files for file_name in file_names):\n",
    "            # Run your existing code to process the files and create slope_comparison.xlsx\n",
    "            df_A = pd.read_excel(os.path.join(root, file_names[0]))\n",
    "            df_B = pd.read_excel(os.path.join(root, file_names[1]))\n",
    "            \n",
    "            # Merge the DataFrames based on the 'site' column\n",
    "            merged_df = pd.merge(df_A, df_B, on='site', suffixes=('_MK', '_LR'))\n",
    "\n",
    "            # Create a new DataFrame for the slope comparison\n",
    "            slope_comparison_df = pd.DataFrame({\n",
    "                'site': merged_df['site'],\n",
    "                'slope_MK': merged_df['slope_MK'],\n",
    "                'slope_LR': merged_df['slope_LR'],\n",
    "                'slope_MK m/20y': merged_df['slope m/20y_MK'],\n",
    "                'slope_LR m/20y': merged_df['slope m/20y_LR'],\n",
    "                'trend_MK': merged_df['trend_MK'].str.capitalize(),\n",
    "                'trend_LR': merged_df['trend_LR'].str.capitalize(),\n",
    "            })\n",
    "\n",
    "            # Check if 'significance_LR' column exists before adding it to the DataFrame\n",
    "            if 'significance_LR' in merged_df.columns:\n",
    "                slope_comparison_df['significance_LR'] = merged_df['significance_LR']\n",
    "\n",
    "            # Add a new column to indicate trend comparison\n",
    "            slope_comparison_df['trend_comparison'] = slope_comparison_df.apply(\n",
    "                lambda row: 'Different' if row['trend_LR'] != row['trend_MK'] else '',\n",
    "                axis=1\n",
    "            )\n",
    "\n",
    "\n",
    "            # Filter the DataFrame to get rows with trend comparison\n",
    "            filtered_df = slope_comparison_df[slope_comparison_df['trend_comparison'] == 'Different']\n",
    "        \n",
    "            # Modify the output_file_path to save in the current directory\n",
    "            output_file_path = os.path.join(root, \"slope_comparison.xlsx\")\n",
    "            with pd.ExcelWriter(output_file_path) as writer:\n",
    "                slope_comparison_df.to_excel(writer, sheet_name='all_data', index=False)\n",
    "                filtered_df.to_excel(writer, sheet_name='Different', index=False)\n",
    "            print(f\"Processed files in {root} and saved slope_comparison.xlsx\")\n",
    "\n",
    "# Get the current working directory\n",
    "current_dir = os.getcwd()\n",
    "\n",
    "# Call the function to process files in the current directory and its subdirectories\n",
    "process_files(current_dir)\n"
   ]
  },
  {
   "cell_type": "code",
   "execution_count": null,
   "id": "b618dc43-5816-4960-9302-c262c9087337",
   "metadata": {},
   "outputs": [],
   "source": []
  }
 ],
 "metadata": {
  "kernelspec": {
   "display_name": "Python 3 (ipykernel)",
   "language": "python",
   "name": "python3"
  },
  "language_info": {
   "codemirror_mode": {
    "name": "ipython",
    "version": 3
   },
   "file_extension": ".py",
   "mimetype": "text/x-python",
   "name": "python",
   "nbconvert_exporter": "python",
   "pygments_lexer": "ipython3",
   "version": "3.11.4"
  }
 },
 "nbformat": 4,
 "nbformat_minor": 5
}
